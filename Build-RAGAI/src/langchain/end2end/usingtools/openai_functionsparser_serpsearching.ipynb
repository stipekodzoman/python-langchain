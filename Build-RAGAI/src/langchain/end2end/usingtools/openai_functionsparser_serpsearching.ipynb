{
 "cells": [
  {
   "cell_type": "markdown",
   "metadata": {},
   "source": [
    "# Tools and OpenAI Functions\n",
    "We'll focus on SerpAPI using OpenAI as our Agent.\n",
    "\n",
    "An agent decides *when* to use tools based on the needs of the time."
   ]
  },
  {
   "cell_type": "code",
   "execution_count": 1,
   "metadata": {},
   "outputs": [
    {
     "name": "stdout",
     "output_type": "stream",
     "text": [
      "Requirement already satisfied: langchain in c:\\users\\dae\\.vscode\\software\\.venv\\lib\\site-packages (0.0.350)\n",
      "Collecting langchain\n",
      "  Downloading langchain-0.0.351-py3-none-any.whl.metadata (13 kB)\n",
      "Collecting google-search-results\n",
      "  Using cached google_search_results-2.4.2-py3-none-any.whl\n",
      "Collecting numexpr\n",
      "  Using cached numexpr-2.8.8-cp310-cp310-win_amd64.whl.metadata (8.1 kB)\n",
      "Requirement already satisfied: langsmith in c:\\users\\dae\\.vscode\\software\\.venv\\lib\\site-packages (0.0.71)\n",
      "Collecting langsmith\n",
      "  Downloading langsmith-0.0.72-py3-none-any.whl.metadata (10 kB)\n",
      "Collecting langchainhub\n",
      "  Using cached langchainhub-0.1.14-py3-none-any.whl.metadata (478 bytes)\n",
      "Requirement already satisfied: PyYAML>=5.3 in c:\\users\\dae\\.vscode\\software\\.venv\\lib\\site-packages (from langchain) (6.0.1)\n",
      "Requirement already satisfied: SQLAlchemy<3,>=1.4 in c:\\users\\dae\\.vscode\\software\\.venv\\lib\\site-packages (from langchain) (2.0.23)\n",
      "Requirement already satisfied: aiohttp<4.0.0,>=3.8.3 in c:\\users\\dae\\.vscode\\software\\.venv\\lib\\site-packages (from langchain) (3.9.1)\n",
      "Requirement already satisfied: async-timeout<5.0.0,>=4.0.0 in c:\\users\\dae\\.vscode\\software\\.venv\\lib\\site-packages (from langchain) (4.0.3)\n",
      "Requirement already satisfied: dataclasses-json<0.7,>=0.5.7 in c:\\users\\dae\\.vscode\\software\\.venv\\lib\\site-packages (from langchain) (0.6.3)\n",
      "Requirement already satisfied: jsonpatch<2.0,>=1.33 in c:\\users\\dae\\.vscode\\software\\.venv\\lib\\site-packages (from langchain) (1.33)\n",
      "Requirement already satisfied: langchain-community<0.1,>=0.0.2 in c:\\users\\dae\\.vscode\\software\\.venv\\lib\\site-packages (from langchain) (0.0.3)\n",
      "Requirement already satisfied: langchain-core<0.2,>=0.1 in c:\\users\\dae\\.vscode\\software\\.venv\\lib\\site-packages (from langchain) (0.1.1)\n",
      "Requirement already satisfied: numpy<2,>=1 in c:\\users\\dae\\.vscode\\software\\.venv\\lib\\site-packages (from langchain) (1.26.2)\n",
      "Requirement already satisfied: pydantic<3,>=1 in c:\\users\\dae\\.vscode\\software\\.venv\\lib\\site-packages (from langchain) (2.5.2)\n",
      "Requirement already satisfied: requests<3,>=2 in c:\\users\\dae\\.vscode\\software\\.venv\\lib\\site-packages (from langchain) (2.31.0)\n",
      "Requirement already satisfied: tenacity<9.0.0,>=8.1.0 in c:\\users\\dae\\.vscode\\software\\.venv\\lib\\site-packages (from langchain) (8.2.3)\n",
      "Collecting types-requests<3.0.0.0,>=2.31.0.2 (from langchainhub)\n",
      "  Using cached types_requests-2.31.0.10-py3-none-any.whl.metadata (1.8 kB)\n",
      "Requirement already satisfied: attrs>=17.3.0 in c:\\users\\dae\\.vscode\\software\\.venv\\lib\\site-packages (from aiohttp<4.0.0,>=3.8.3->langchain) (23.1.0)\n",
      "Requirement already satisfied: multidict<7.0,>=4.5 in c:\\users\\dae\\.vscode\\software\\.venv\\lib\\site-packages (from aiohttp<4.0.0,>=3.8.3->langchain) (6.0.4)\n",
      "Requirement already satisfied: yarl<2.0,>=1.0 in c:\\users\\dae\\.vscode\\software\\.venv\\lib\\site-packages (from aiohttp<4.0.0,>=3.8.3->langchain) (1.9.4)\n",
      "Requirement already satisfied: frozenlist>=1.1.1 in c:\\users\\dae\\.vscode\\software\\.venv\\lib\\site-packages (from aiohttp<4.0.0,>=3.8.3->langchain) (1.4.1)\n",
      "Requirement already satisfied: aiosignal>=1.1.2 in c:\\users\\dae\\.vscode\\software\\.venv\\lib\\site-packages (from aiohttp<4.0.0,>=3.8.3->langchain) (1.3.1)\n",
      "Requirement already satisfied: marshmallow<4.0.0,>=3.18.0 in c:\\users\\dae\\.vscode\\software\\.venv\\lib\\site-packages (from dataclasses-json<0.7,>=0.5.7->langchain) (3.20.1)\n",
      "Requirement already satisfied: typing-inspect<1,>=0.4.0 in c:\\users\\dae\\.vscode\\software\\.venv\\lib\\site-packages (from dataclasses-json<0.7,>=0.5.7->langchain) (0.9.0)\n",
      "Requirement already satisfied: jsonpointer>=1.9 in c:\\users\\dae\\.vscode\\software\\.venv\\lib\\site-packages (from jsonpatch<2.0,>=1.33->langchain) (2.4)\n",
      "Requirement already satisfied: anyio<5,>=3 in c:\\users\\dae\\.vscode\\software\\.venv\\lib\\site-packages (from langchain-core<0.2,>=0.1->langchain) (4.2.0)\n",
      "Requirement already satisfied: packaging<24.0,>=23.2 in c:\\users\\dae\\.vscode\\software\\.venv\\lib\\site-packages (from langchain-core<0.2,>=0.1->langchain) (23.2)\n",
      "Requirement already satisfied: annotated-types>=0.4.0 in c:\\users\\dae\\.vscode\\software\\.venv\\lib\\site-packages (from pydantic<3,>=1->langchain) (0.6.0)\n",
      "Requirement already satisfied: pydantic-core==2.14.5 in c:\\users\\dae\\.vscode\\software\\.venv\\lib\\site-packages (from pydantic<3,>=1->langchain) (2.14.5)\n",
      "Requirement already satisfied: typing-extensions>=4.6.1 in c:\\users\\dae\\.vscode\\software\\.venv\\lib\\site-packages (from pydantic<3,>=1->langchain) (4.9.0)\n",
      "Requirement already satisfied: charset-normalizer<4,>=2 in c:\\users\\dae\\.vscode\\software\\.venv\\lib\\site-packages (from requests<3,>=2->langchain) (3.3.2)\n",
      "Requirement already satisfied: idna<4,>=2.5 in c:\\users\\dae\\.vscode\\software\\.venv\\lib\\site-packages (from requests<3,>=2->langchain) (3.6)\n",
      "Requirement already satisfied: urllib3<3,>=1.21.1 in c:\\users\\dae\\.vscode\\software\\.venv\\lib\\site-packages (from requests<3,>=2->langchain) (2.1.0)\n",
      "Requirement already satisfied: certifi>=2017.4.17 in c:\\users\\dae\\.vscode\\software\\.venv\\lib\\site-packages (from requests<3,>=2->langchain) (2023.11.17)\n",
      "Requirement already satisfied: greenlet!=0.4.17 in c:\\users\\dae\\.vscode\\software\\.venv\\lib\\site-packages (from SQLAlchemy<3,>=1.4->langchain) (3.0.2)\n",
      "Requirement already satisfied: sniffio>=1.1 in c:\\users\\dae\\.vscode\\software\\.venv\\lib\\site-packages (from anyio<5,>=3->langchain-core<0.2,>=0.1->langchain) (1.3.0)\n",
      "Requirement already satisfied: exceptiongroup>=1.0.2 in c:\\users\\dae\\.vscode\\software\\.venv\\lib\\site-packages (from anyio<5,>=3->langchain-core<0.2,>=0.1->langchain) (1.2.0)\n",
      "Requirement already satisfied: mypy-extensions>=0.3.0 in c:\\users\\dae\\.vscode\\software\\.venv\\lib\\site-packages (from typing-inspect<1,>=0.4.0->dataclasses-json<0.7,>=0.5.7->langchain) (1.0.0)\n",
      "Downloading langchain-0.0.351-py3-none-any.whl (794 kB)\n",
      "   ---------------------------------------- 0.0/794.3 kB ? eta -:--:--\n",
      "   -------- ------------------------------- 174.1/794.3 kB 3.5 MB/s eta 0:00:01\n",
      "   ---------------------------------- ----- 686.1/794.3 kB 7.3 MB/s eta 0:00:01\n",
      "   ---------------------------------------- 794.3/794.3 kB 7.2 MB/s eta 0:00:00\n",
      "Using cached numexpr-2.8.8-cp310-cp310-win_amd64.whl (96 kB)\n",
      "Downloading langsmith-0.0.72-py3-none-any.whl (46 kB)\n",
      "   ---------------------------------------- 0.0/46.3 kB ? eta -:--:--\n",
      "   ---------------------------------------- 46.3/46.3 kB 2.3 MB/s eta 0:00:00\n",
      "Using cached langchainhub-0.1.14-py3-none-any.whl (3.4 kB)\n",
      "Using cached types_requests-2.31.0.10-py3-none-any.whl (14 kB)\n",
      "Installing collected packages: types-requests, numexpr, langchainhub, google-search-results, langsmith, langchain\n",
      "  Attempting uninstall: langsmith\n",
      "    Found existing installation: langsmith 0.0.71\n",
      "    Uninstalling langsmith-0.0.71:\n",
      "      Successfully uninstalled langsmith-0.0.71\n",
      "  Attempting uninstall: langchain\n",
      "    Found existing installation: langchain 0.0.350\n",
      "    Uninstalling langchain-0.0.350:\n",
      "      Successfully uninstalled langchain-0.0.350\n",
      "Successfully installed google-search-results-2.4.2 langchain-0.0.351 langchainhub-0.1.14 langsmith-0.0.72 numexpr-2.8.8 types-requests-2.31.0.10\n",
      "Note: you may need to restart the kernel to use updated packages.\n"
     ]
    }
   ],
   "source": [
    "%pip install -Uq langchain google-search-results numexpr langsmith langchainhub"
   ]
  },
  {
   "cell_type": "code",
   "execution_count": 2,
   "metadata": {},
   "outputs": [],
   "source": [
    "import os\n",
    "from uuid import uuid4\n",
    "\n",
    "unique_id = uuid4().hex[0:8]\n",
    "os.environ[\"LANGSMITH_TRACING_V2\"] = \"true\"\n",
    "os.environ[\"LANGCHAIN_PROJECT\"] = \"serpsearchingtooltesting\"\n",
    "#os.environ[\"LANGCHAIN_ENDPOINT\"] = \"https://api.smith.langchain.com\"\n",
    "os.environ[\"LANGCHAIN_API_KEY\"] = \"\"\n",
    "os.environ[\"SERPAPI_API_KEY\"] = \"\"\n",
    "# We will use OpenAI as the Agent\n",
    "os.environ[\"OPENAI_API_KEY\"] = \"\""
   ]
  },
  {
   "cell_type": "code",
   "execution_count": 3,
   "metadata": {},
   "outputs": [],
   "source": [
    "# This step is for an outdated version of LangChain/LangSmith, \\\n",
    "    # but it's still worth leaving in for your knowledge and reference \n",
    "from langsmith import Client\n",
    "\n",
    "# Initialize the LangSmith client\n",
    "client = Client()"
   ]
  },
  {
   "cell_type": "code",
   "execution_count": 4,
   "metadata": {},
   "outputs": [],
   "source": [
    "from operator import itemgetter\n",
    "\n",
    "from langchain import hub\n",
    "from langchain.agents import AgentExecutor, load_tools\n",
    "from langchain.agents.format_scratchpad import format_to_openai_functions\n",
    "from langchain.agents.output_parsers import OpenAIFunctionsAgentOutputParser\n",
    "from langchain.chat_models import ChatOpenAI\n",
    "from langchain.tools.render import format_tool_to_openai_function\n",
    "\n",
    "# Initialize the LLM using a Chat model\n",
    "llm = ChatOpenAI(model_name=\"gpt-3.5-turbo-1106\", temperature=0.2)\n",
    "\n",
    "# Load your tools by using the built-in ones for quick testing. You may wish to try building a custom tool\n",
    "# llm-math is an especially powerful built-in tool, since LLMs can't perform math, \\\n",
    "    # they just predict the next token in the conversation\n",
    "tools = load_tools([\"serpapi\", \"llm-math\"], llm=llm)\n",
    "\n",
    "# Bind the tools to the LLM\n",
    "llm_with_tools = llm.bind(functions=[format_tool_to_openai_function(t) for t in tools])\n",
    "\n",
    "# https://smith.langchain.com/hub/daethyra/rag-prompt\n",
    "prompt = hub.pull(\"wfh/agent-lcel-prompt\")"
   ]
  },
  {
   "cell_type": "code",
   "execution_count": 5,
   "metadata": {},
   "outputs": [],
   "source": [
    "# The scratchpad is imperative for agents so they don't lose their place as they take action\n",
    "def format_scratchpad(x: dict) -> str:\n",
    "    return format_to_openai_functions(x[\"intermediate_steps\"])\n",
    "\n",
    "def get_chat_history(x: dict) -> list:\n",
    "    return x.get(\"chat_history\", [])"
   ]
  },
  {
   "cell_type": "code",
   "execution_count": 6,
   "metadata": {},
   "outputs": [],
   "source": [
    "# Construct the Agent by using LangChain Expression Language to chain functionality together\n",
    "agent = (\n",
    "    {\n",
    "        \"input\": itemgetter(\"input\"),\n",
    "        \"agent_scratchpad\": format_scratchpad,\n",
    "        \"chat_history\": get_chat_history,\n",
    "    }\n",
    "    | prompt\n",
    "    | llm_with_tools\n",
    "    | OpenAIFunctionsAgentOutputParser()\n",
    ").with_config(run_name=\"Agent\")\n",
    "\n",
    "# Define the Agent Executor\n",
    "agent_executor = AgentExecutor(\n",
    "    agent=agent,\n",
    "    tools=tools,\n",
    ")"
   ]
  },
  {
   "cell_type": "code",
   "execution_count": 7,
   "metadata": {},
   "outputs": [
    {
     "data": {
      "text/plain": [
       "[{'input': \"What's the distance from Earth to the moon in miles multiplied by 77?\",\n",
       "  'output': 'The distance from Earth to the moon is approximately 238,855 miles. When multiplied by 77, the result is 18,391,835 miles.'},\n",
       " ValueError('LLMMathChain._evaluate(\"\\ndistance from Earth to Mars in miles - distance from Earth to the moon in miles\\n\") raised error: invalid syntax (<expr>, line 1). Please try again with a valid numerical expression'),\n",
       " {'input': 'How many stars are there in the Milky Way multiplied by the number of planets in our solar system',\n",
       "  'output': 'The number of stars in the Milky Way multiplied by the number of planets in our solar system is 1,600,000,000,000.'},\n",
       " {'input': 'How old is the Sun in years multiplied by the number of planets in our solar system',\n",
       "  'output': 'The age of the Sun in years multiplied by the number of planets in our solar system is 36,800,000,000 years.'},\n",
       " {'input': 'How many more stars are there in our galaxy than in our solar system?',\n",
       "  'output': 'There are approximately 99,999,999,999 more stars in our galaxy (Milky Way) than in our solar system.'},\n",
       " {'input': 'What is the number of stars in the Andromeda Galaxy divided by the number of stars in the Milky Way?',\n",
       "  'output': 'The number of stars in the Andromeda Galaxy divided by the number of stars in the Milky Way is 10.'},\n",
       " {'input': 'How much larger is the biggest known star compared to the Sun?',\n",
       "  'output': 'The biggest known star, UY Scuti, has a radius around 1,700 times larger than the radius of the Sun. This means that the volume of almost 5 billion Suns could fit inside a sphere the size of UY Scuti.'},\n",
       " {'input': 'What is the surface area of Earth in feet divided by the number of people on Earth?',\n",
       "  'output': 'The surface area of Earth in feet divided by the number of people on Earth is approximately 0.313 square feet per person.'},\n",
       " {'input': 'How big is a black hole in miles divided by the diameter of Earth in miles?',\n",
       "  'output': 'The size of a black hole in miles divided by the diameter of Earth in miles is approximately 44,511,975,522.57656.'},\n",
       " ValueError('LLMMathChain._evaluate(\"\\ndiameter_of_Jupiter / diameter_of_Mercury\\n\") raised error: \\'diameter_of_Jupiter\\'. Please try again with a valid numerical expression')]"
      ]
     },
     "execution_count": 7,
     "metadata": {},
     "output_type": "execute_result"
    }
   ],
   "source": [
    "inputs = [\n",
    "    \"What's the distance from Earth to the moon in miles multiplied by 77?\",\n",
    "    \"How much further away is Mars from Earth than Earth to the moon?\",\n",
    "    \"How many stars are there in the Milky Way multiplied by the number of planets in our solar system\",\n",
    "    \"How old is the Sun in years multiplied by the number of planets in our solar system\",\n",
    "    \"How many more stars are there in our galaxy than in our solar system?\",\n",
    "    \"What is the number of stars in the Andromeda Galaxy divided by the number of stars in the Milky Way?\",\n",
    "    \"How much larger is the biggest known star compared to the Sun?\",\n",
    "    \"What is the surface area of Earth in feet divided by the number of people on Earth?\",\n",
    "    \"How big is a black hole in miles divided by the diameter of Earth in miles?\",\n",
    "    \"How much larger is the biggest planet compared to the smallest planet?\"\n",
    "]\n",
    "\n",
    "# Batch process the inputs using the Agent Executor\n",
    "results = agent_executor.batch([{\"input\": x} for x in inputs], return_exceptions=True)\n",
    "results"
   ]
  }
 ],
 "metadata": {
  "kernelspec": {
   "display_name": "Python 3",
   "language": "python",
   "name": "python3"
  },
  "language_info": {
   "codemirror_mode": {
    "name": "ipython",
    "version": 3
   },
   "file_extension": ".py",
   "mimetype": "text/x-python",
   "name": "python",
   "nbconvert_exporter": "python",
   "pygments_lexer": "ipython3",
   "version": "3.10.11"
  }
 },
 "nbformat": 4,
 "nbformat_minor": 2
}
